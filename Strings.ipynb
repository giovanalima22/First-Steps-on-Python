{
 "cells": [
  {
   "cell_type": "markdown",
   "id": "2b04bbea",
   "metadata": {},
   "source": [
    "# Strings\n",
    "\n",
    "<span style=\"color: red;\"><b>Todos os exercícios são feitos partindo-se do pressuposto de que todas as entradas são dadas de forma correta. Casos limite não mencionados no enunciado não são abordados porque não fazem parte do exercício.</b></span>"
   ]
  },
  {
   "cell_type": "markdown",
   "id": "5b1f33b9",
   "metadata": {},
   "source": [
    "#### 1. Tamanho de strings. Faça um programa que leia 2 strings e informe o conteúdo delas seguido do seu comprimento. Informe também se as duas strings possuem o mesmo comprimento e são iguais ou diferentes no conteúdo.\n",
    "<pre>\n",
    "Compara duas strings\n",
    "String 1: Brasil Hexa 2006\n",
    "String 2: Brasil! Hexa 2006!\n",
    "Tamanho de \"Brasil Hexa 2006\": 16 caracteres\n",
    "Tamanho de \"Brasil! Hexa 2006!\": 18 caracteres\n",
    "As duas strings são de tamanhos diferentes.\n",
    "As duas strings possuem conteúdo diferente.\n",
    "</pre>"
   ]
  },
  {
   "cell_type": "code",
   "execution_count": 7,
   "id": "c492b657",
   "metadata": {},
   "outputs": [
    {
     "name": "stdout",
     "output_type": "stream",
     "text": [
      "Insira a frase Brasil Hexa 2006\n",
      "Insira a frase Brasil! Hexa 2006!\n",
      "Tamanho de Brasil Hexa 2006: 16 caracteres\n",
      "Tamanho de Brasil! Hexa 2006!: 18 caracteres\n",
      "As duas strings são de tamanhos diferentes.\n",
      "As duas strings possuem conteúdo diferente.\n"
     ]
    }
   ],
   "source": [
    "s1 = input('Insira a frase ')\n",
    "s2 = input('Insira a frase ')\n",
    "\n",
    "print(f'Tamanho de {s1}: {len(s1)} caracteres')\n",
    "print(f'Tamanho de {s2}: {len(s2)} caracteres')\n",
    "\n",
    "if len(s1) == len(s2):\n",
    "    print('As duas strings são do mesmo tamanho.')\n",
    "else:\n",
    "    print('As duas strings são de tamanhos diferentes.')\n",
    "    \n",
    "if s1 == s2:\n",
    "    print('As duas strings possuem contéudos iguais.')\n",
    "else:\n",
    "    print('As duas strings possuem conteúdo diferente.')"
   ]
  },
  {
   "cell_type": "markdown",
   "id": "c3068a53",
   "metadata": {},
   "source": [
    "#### 2. Valida e corrige número de telefone. Faça um programa que leia um número de telefone, e corrija o número no caso deste conter somente 7 dígitos, acrescentando o '3' na frente. O usuário pode informar o número com ou sem o traço separador.\n",
    "<pre>\n",
    "Valida e corrige número de telefone\n",
    "Telefone: 461-0133\n",
    "Telefone possui 7 dígitos. Vou acrescentar o digito três na frente.\n",
    "Telefone corrigido sem formatação: 34610133\n",
    "Telefone corrigido com formatação: 3461-0133\n",
    "</pre>"
   ]
  },
  {
   "cell_type": "code",
   "execution_count": 16,
   "id": "0308566d",
   "metadata": {},
   "outputs": [
    {
     "name": "stdout",
     "output_type": "stream",
     "text": [
      "Telefone: 7412584\n",
      "Telefone possui 7 dígitos. Vou acrescentar o digito três na frente.\n",
      "Telefone corrigido sem formatação: 37412584\n",
      "Telefone corrigido sem formatação: 3741-2584\n"
     ]
    }
   ],
   "source": [
    "tel = input('Telefone: ')\n",
    "tel = tel.replace('-', '')\n",
    "if len(tel) == 7:\n",
    "    print('Telefone possui 7 dígitos. Vou acrescentar o digito três na frente.')\n",
    "    tel = '3' + tel\n",
    "    print(f'Telefone corrigido sem formatação: {tel}')\n",
    "    print(f'Telefone corrigido sem formatação: {tel[:4]}-{tel[4:]}')\n",
    "else:\n",
    "    print('Telefone não tem 7 digitos.')"
   ]
  }
 ],
 "metadata": {
  "kernelspec": {
   "display_name": "Python 3 (ipykernel)",
   "language": "python",
   "name": "python3"
  },
  "language_info": {
   "codemirror_mode": {
    "name": "ipython",
    "version": 3
   },
   "file_extension": ".py",
   "mimetype": "text/x-python",
   "name": "python",
   "nbconvert_exporter": "python",
   "pygments_lexer": "ipython3",
   "version": "3.9.7"
  }
 },
 "nbformat": 4,
 "nbformat_minor": 5
}
